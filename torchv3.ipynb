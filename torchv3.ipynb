{
 "cells": [
  {
   "cell_type": "code",
   "execution_count": 5,
   "id": "f5526ff9",
   "metadata": {},
   "outputs": [],
   "source": [
    "from torch.nn import Linear\n",
    "import numpy as np\n",
    "import torch"
   ]
  },
  {
   "cell_type": "code",
   "execution_count": null,
   "id": "297c558b",
   "metadata": {},
   "outputs": [],
   "source": [
    "meslea DL de katmanlar oluştururken katmanlar için yazılacak algoritmaları tek tek alt alta sıralya add ile ekliyoruz işte\n",
    "model.add(Conv2D) 1. katman \n",
    "model.add(Conv) 2. katman \n",
    "model.add(output=1,loss func= cross entopy) 3. katman \n",
    "\n",
    "\n",
    "pytorchda boyle degilde hepsini iç içe yazdırabiliyorsun\n",
    " print(lin2(lin1(inp)))\n",
    "    \n",
    "    yani kompleks ağlar yazılabiliyor ağ yapılar kolayca yapılabilir GAN "
   ]
  },
  {
   "cell_type": "code",
   "execution_count": 11,
   "id": "ec673ec0",
   "metadata": {},
   "outputs": [
    {
     "data": {
      "text/plain": [
       "tensor([0.5746])"
      ]
     },
     "execution_count": 11,
     "metadata": {},
     "output_type": "execute_result"
    }
   ],
   "source": [
    "inp=torch.rand(1)\n",
    "inp"
   ]
  },
  {
   "cell_type": "code",
   "execution_count": 12,
   "id": "a9d0796a",
   "metadata": {},
   "outputs": [
    {
     "data": {
      "text/plain": [
       "(Parameter containing:\n",
       " tensor([[0.7314]], requires_grad=True),\n",
       " Parameter containing:\n",
       " tensor([0.1551], requires_grad=True))"
      ]
     },
     "execution_count": 12,
     "metadata": {},
     "output_type": "execute_result"
    }
   ],
   "source": [
    "linear=Linear(in_features=1,out_features=1)\n",
    "linear.weight,linear.bias"
   ]
  },
  {
   "cell_type": "code",
   "execution_count": 15,
   "id": "6cdf8d46",
   "metadata": {},
   "outputs": [
    {
     "name": "stdout",
     "output_type": "stream",
     "text": [
      "tensor([ 0.9718,  0.4486,  0.2567,  0.7241, -0.5175], grad_fn=<ViewBackward0>)\n"
     ]
    }
   ],
   "source": [
    "lin1=Linear(in_features=1,out_features=5)\n",
    "lin2=Linear(in_features=5,out_features=2)\n",
    "print(lin1(inp))"
   ]
  },
  {
   "cell_type": "code",
   "execution_count": 21,
   "id": "fd45e2b7",
   "metadata": {},
   "outputs": [
    {
     "data": {
      "text/plain": [
       "Parameter containing:\n",
       "tensor([[ 0.6494],\n",
       "        [ 0.4504],\n",
       "        [-0.9685],\n",
       "        [ 0.0736],\n",
       "        [-0.5619]], requires_grad=True)"
      ]
     },
     "execution_count": 21,
     "metadata": {},
     "output_type": "execute_result"
    }
   ],
   "source": [
    "lin1.weight"
   ]
  },
  {
   "cell_type": "code",
   "execution_count": 22,
   "id": "76037fd7",
   "metadata": {},
   "outputs": [
    {
     "data": {
      "text/plain": [
       "Parameter containing:\n",
       "tensor([[-0.3260, -0.4112,  0.4280, -0.2558,  0.1302],\n",
       "        [ 0.1054,  0.1516, -0.3730,  0.4148,  0.2056]], requires_grad=True)"
      ]
     },
     "execution_count": 22,
     "metadata": {},
     "output_type": "execute_result"
    }
   ],
   "source": [
    "lin2.weight"
   ]
  },
  {
   "cell_type": "code",
   "execution_count": 14,
   "id": "b2c4cb68",
   "metadata": {},
   "outputs": [
    {
     "name": "stdout",
     "output_type": "stream",
     "text": [
      "tensor([-0.1402,  0.0171,  0.3535], grad_fn=<ViewBackward0>)\n"
     ]
    }
   ],
   "source": [
    " print(lin2(lin1(inp)))"
   ]
  },
  {
   "cell_type": "code",
   "execution_count": null,
   "id": "a160d8af",
   "metadata": {},
   "outputs": [],
   "source": []
  },
  {
   "cell_type": "code",
   "execution_count": null,
   "id": "a096775b",
   "metadata": {},
   "outputs": [],
   "source": []
  },
  {
   "cell_type": "code",
   "execution_count": null,
   "id": "bcb9266d",
   "metadata": {},
   "outputs": [],
   "source": []
  },
  {
   "cell_type": "code",
   "execution_count": null,
   "id": "36fb9516",
   "metadata": {},
   "outputs": [],
   "source": []
  },
  {
   "cell_type": "code",
   "execution_count": null,
   "id": "cc01dea9",
   "metadata": {},
   "outputs": [],
   "source": []
  }
 ],
 "metadata": {
  "kernelspec": {
   "display_name": "Python 3 (ipykernel)",
   "language": "python",
   "name": "python3"
  },
  "language_info": {
   "codemirror_mode": {
    "name": "ipython",
    "version": 3
   },
   "file_extension": ".py",
   "mimetype": "text/x-python",
   "name": "python",
   "nbconvert_exporter": "python",
   "pygments_lexer": "ipython3",
   "version": "3.11.4"
  }
 },
 "nbformat": 4,
 "nbformat_minor": 5
}
